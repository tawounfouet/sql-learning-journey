{
 "cells": [
  {
   "cell_type": "markdown",
   "id": "46f3fd33",
   "metadata": {},
   "source": [
    "\n",
    "# 🧪 SQL Server – Exploration des bases AdventureWorks (Docker)\n",
    "\n",
    "Ce notebook permet de **se connecter** à ton SQL Server Docker (`sql-bootcamp-server`), \n",
    "**lister les bases**, **explorer les schémas et tables**, prévisualiser des données, et faire quelques **visualisations** simples.\n",
    "\n",
    "> Prérequis côté machine :\n",
    "> - **ODBC Driver 18 for SQL Server** installé\n",
    "> - Paquets Python : `pyodbc`, `pandas`, `sqlalchemy` (optionnel), `matplotlib`\n",
    "> - Ton conteneur `sql-bootcamp-server` actif avec SQL Server 2022\n"
   ]
  },
  {
   "cell_type": "markdown",
   "id": "17dc381e",
   "metadata": {},
   "source": [
    "## 🔧 Installation des dépendances (si nécessaire)"
   ]
  },
  {
   "cell_type": "code",
   "execution_count": null,
   "id": "bb42c187",
   "metadata": {},
   "outputs": [],
   "source": [
    "\n",
    "# Décommente si besoin d'installer depuis le notebook\n",
    "# %pip install pyodbc pandas SQLAlchemy matplotlib\n"
   ]
  },
  {
   "cell_type": "markdown",
   "id": "c4eb95a5",
   "metadata": {},
   "source": [
    "## ⚙️ Configuration de la connexion"
   ]
  },
  {
   "cell_type": "code",
   "execution_count": null,
   "id": "f203b3ff",
   "metadata": {},
   "outputs": [],
   "source": [
    "\n",
    "import os\n",
    "\n",
    "# Paramètres de connexion par défaut (Docker local)\n",
    "SQL_SERVER = os.getenv(\"SQL_SERVER\", \"localhost\")\n",
    "SQL_PORT   = int(os.getenv(\"SQL_PORT\", \"1433\"))\n",
    "SQL_USER   = os.getenv(\"SQL_USER\", \"SA\")\n",
    "SQL_PASS   = os.getenv(\"SQL_PASS\", \"YourStrong@Passw0rd\")\n",
    "\n",
    "# Base par défaut (laissée vide pour interroger sys.databases)\n",
    "DEFAULT_DB = os.getenv(\"SQL_DATABASE\", \"\")\n",
    "\n",
    "print(f\"➡️ Cible: {SQL_SERVER}:{SQL_PORT} (user={SQL_USER}, db={DEFAULT_DB or 'N/A'})\")\n"
   ]
  },
  {
   "cell_type": "markdown",
   "id": "59435da4",
   "metadata": {},
   "source": [
    "## 🔌 Connexion pyodbc"
   ]
  },
  {
   "cell_type": "code",
   "execution_count": null,
   "id": "b0615bcb",
   "metadata": {},
   "outputs": [],
   "source": [
    "\n",
    "import pyodbc\n",
    "import pandas as pd\n",
    "\n",
    "def make_conn(database: str = \"\"):\n",
    "    \"\"\"\n",
    "    Ouvre une connexion pyodbc à SQL Server.\n",
    "    Utilise le Driver ODBC 18 (Windows/Mac/Linux) et accepte le certificat auto-signé du conteneur.\n",
    "    \"\"\"\n",
    "    driver = \"ODBC Driver 18 for SQL Server\"\n",
    "    conn_str = (\n",
    "        f\"DRIVER={{{driver}}};\"\n",
    "        f\"SERVER={SQL_SERVER},{SQL_PORT};\"\n",
    "        f\"UID={SQL_USER};\"\n",
    "        f\"PWD={SQL_PASS};\"\n",
    "        f\"DATABASE={database};\"\n",
    "        \"Encrypt=no;\"\n",
    "        \"TrustServerCertificate=yes;\"\n",
    "        \"Connection Timeout=30;\"\n",
    "    )\n",
    "    return pyodbc.connect(conn_str)\n",
    "\n",
    "# Test de connexion (au serveur, sans base spécifique)\n",
    "with make_conn(\"\") as conn:\n",
    "    df = pd.read_sql(\"SELECT name, database_id, create_date FROM sys.databases ORDER BY name;\", conn)\n",
    "df\n"
   ]
  },
  {
   "cell_type": "markdown",
   "id": "a0efc05a",
   "metadata": {},
   "source": [
    "## 🎛️ Sélection de la base à explorer"
   ]
  },
  {
   "cell_type": "code",
   "execution_count": null,
   "id": "4acd154e",
   "metadata": {},
   "outputs": [],
   "source": [
    "\n",
    "# Choisis ici la base à explorer (ex: AdventureWorks2022 / AdventureWorksDW2022 / AdventureWorksLT2022)\n",
    "DB_NAME = \"AdventureWorks2022\"  # ← modifie moi si besoin\n",
    "print(\"Base sélectionnée:\", DB_NAME)\n"
   ]
  },
  {
   "cell_type": "markdown",
   "id": "11262434",
   "metadata": {},
   "source": [
    "## 📚 Schémas & Tables"
   ]
  },
  {
   "cell_type": "code",
   "execution_count": null,
   "id": "d5e2ebde",
   "metadata": {},
   "outputs": [],
   "source": [
    "\n",
    "with make_conn(DB_NAME) as conn:\n",
    "    schemas = pd.read_sql(\n",
    "        \"SELECT DISTINCT schema_name = s.name FROM sys.schemas s ORDER BY s.name;\", conn\n",
    "    )\n",
    "    tables = pd.read_sql(\n",
    "        \"SELECT TABLE_SCHEMA, TABLE_NAME FROM INFORMATION_SCHEMA.TABLES \"\n",
    "        \"WHERE TABLE_TYPE = 'BASE TABLE' ORDER BY TABLE_SCHEMA, TABLE_NAME;\",\n",
    "        conn,\n",
    "    )\n",
    "\n",
    "schemas, tables.head(20)\n"
   ]
  },
  {
   "cell_type": "markdown",
   "id": "6f67c5d9",
   "metadata": {},
   "source": [
    "## 👀 Prévisualiser une table"
   ]
  },
  {
   "cell_type": "code",
   "execution_count": null,
   "id": "193e4d46",
   "metadata": {},
   "outputs": [],
   "source": [
    "\n",
    "def head_table(schema: str, table: str, n: int = 5):\n",
    "    query = f\"SELECT TOP {n} * FROM [{schema}].[{table}]\"\n",
    "    with make_conn(DB_NAME) as conn:\n",
    "        return pd.read_sql(query, conn)\n",
    "\n",
    "# Exemple: prévisualiser les 5 premières lignes d'une table connue\n",
    "# head_table(\"Person\", \"Person\", 5)\n"
   ]
  },
  {
   "cell_type": "markdown",
   "id": "f7895598",
   "metadata": {},
   "source": [
    "## 🔢 Nombre de lignes par table (aperçu rapide)"
   ]
  },
  {
   "cell_type": "code",
   "execution_count": null,
   "id": "fb1d34dd",
   "metadata": {},
   "outputs": [],
   "source": [
    "\n",
    "# ATTENTION : ceci peut être long sur de très grosses tables.\n",
    "# Pour AdventureWorks, c'est raisonnable.\n",
    "row_counts = []\n",
    "with make_conn(DB_NAME) as conn:\n",
    "    for _, r in tables.iterrows():\n",
    "        schema, table = r[\"TABLE_SCHEMA\"], r[\"TABLE_NAME\"]\n",
    "        q = f\"SELECT COUNT(*) AS cnt FROM [{schema}].[{table}]\"\n",
    "        try:\n",
    "            cnt = pd.read_sql(q, conn).iloc[0,0]\n",
    "        except Exception as e:\n",
    "            cnt = None\n",
    "        row_counts.append((schema, table, cnt))\n",
    "\n",
    "df_counts = pd.DataFrame(row_counts, columns=[\"schema\", \"table\", \"rows\"]).sort_values(\n",
    "    [\"rows\", \"schema\", \"table\"], ascending=[False, True, True]\n",
    ")\n",
    "df_counts.head(20)\n"
   ]
  },
  {
   "cell_type": "markdown",
   "id": "be1c73da",
   "metadata": {},
   "source": [
    "## 📈 Exemple : Top 10 des produits par quantité vendue (AdventureWorks2022)"
   ]
  },
  {
   "cell_type": "code",
   "execution_count": null,
   "id": "3b221aef",
   "metadata": {},
   "outputs": [],
   "source": [
    "\n",
    "import matplotlib.pyplot as plt\n",
    "\n",
    "if DB_NAME == \"AdventureWorks2022\":\n",
    "    query = (\n",
    "        \"SELECT TOP 10 p.Name AS ProductName, SUM(sod.OrderQty) AS TotalQty \"\n",
    "        \"FROM Sales.SalesOrderDetail sod \"\n",
    "        \"JOIN Production.Product p ON sod.ProductID = p.ProductID \"\n",
    "        \"GROUP BY p.Name \"\n",
    "        \"ORDER BY TotalQty DESC;\"\n",
    "    )\n",
    "    with make_conn(DB_NAME) as conn:\n",
    "        top_products = pd.read_sql(query, conn)\n",
    "\n",
    "    display(top_products)\n",
    "\n",
    "    # Chart: Matplotlib only, single plot, no custom colors\n",
    "    plt.figure()\n",
    "    plt.bar(top_products[\"ProductName\"], top_products[\"TotalQty\"])\n",
    "    plt.xticks(rotation=45, ha=\"right\")\n",
    "    plt.title(\"Top 10 produits par quantité vendue\")\n",
    "    plt.xlabel(\"Produit\")\n",
    "    plt.ylabel(\"Quantité totale\")\n",
    "    plt.tight_layout()\n",
    "    plt.show()\n",
    "else:\n",
    "    print(\"Change DB_NAME à 'AdventureWorks2022' pour exécuter cet exemple.\")\n"
   ]
  },
  {
   "cell_type": "markdown",
   "id": "2dd661f3",
   "metadata": {},
   "source": [
    "## 🧭 Exemples alternatifs pour DW & LT"
   ]
  },
  {
   "cell_type": "code",
   "execution_count": null,
   "id": "f76ba24a",
   "metadata": {},
   "outputs": [],
   "source": [
    "\n",
    "if DB_NAME == \"AdventureWorksDW2022\":\n",
    "    q = (\n",
    "        \"SELECT TOP 10 d.CalendarYear, SUM(f.SalesAmount) AS TotalSales \"\n",
    "        \"FROM dbo.FactInternetSales f \"\n",
    "        \"JOIN dbo.DimDate d ON f.OrderDateKey = d.DateKey \"\n",
    "        \"GROUP BY d.CalendarYear \"\n",
    "        \"ORDER BY TotalSales DESC;\"\n",
    "    )\n",
    "    with make_conn(DB_NAME) as conn:\n",
    "        df_dw = pd.read_sql(q, conn)\n",
    "    display(df_dw)\n",
    "\n",
    "    import matplotlib.pyplot as plt\n",
    "    plt.figure()\n",
    "    plt.plot(df_dw[\"CalendarYear\"], df_dw[\"TotalSales\"], marker=\"o\")\n",
    "    plt.title(\"Ventes Internet par année (Top)\")\n",
    "    plt.xlabel(\"Année\")\n",
    "    plt.ylabel(\"Ventes\")\n",
    "    plt.tight_layout()\n",
    "    plt.show()\n",
    "\n",
    "elif DB_NAME == \"AdventureWorksLT2022\":\n",
    "    q = (\n",
    "        \"SELECT TOP 10 c.FirstName + ' ' + c.LastName AS FullName, COUNT(*) AS Orders \"\n",
    "        \"FROM SalesLT.Customer c \"\n",
    "        \"JOIN SalesLT.SalesOrderHeader h ON c.CustomerID = h.CustomerID \"\n",
    "        \"GROUP BY c.FirstName, c.LastName \"\n",
    "        \"ORDER BY Orders DESC;\"\n",
    "    )\n",
    "    with make_conn(DB_NAME) as conn:\n",
    "        df_lt = pd.read_sql(q, conn)\n",
    "    display(df_lt)\n",
    "\n",
    "    import matplotlib.pyplot as plt\n",
    "    plt.figure()\n",
    "    plt.bar(df_lt[\"FullName\"], df_lt[\"Orders\"])\n",
    "    plt.xticks(rotation=45, ha=\"right\")\n",
    "    plt.title(\"Top 10 clients par nombre de commandes\")\n",
    "    plt.xlabel(\"Client\")\n",
    "    plt.ylabel(\"Nb commandes\")\n",
    "    plt.tight_layout()\n",
    "    plt.show()\n",
    "else:\n",
    "    print(\"Change DB_NAME à 'AdventureWorksDW2022' ou 'AdventureWorksLT2022' pour ces exemples.\")\n"
   ]
  },
  {
   "cell_type": "markdown",
   "id": "569adbb6",
   "metadata": {},
   "source": [
    "## 🧰 Boîte à outils : exécuter une requête SQL libre"
   ]
  },
  {
   "cell_type": "code",
   "execution_count": null,
   "id": "4d7044b7",
   "metadata": {},
   "outputs": [],
   "source": [
    "\n",
    "def run_sql(query: str, database: str = None) -> pd.DataFrame:\n",
    "    database = database or DB_NAME\n",
    "    with make_conn(database) as conn:\n",
    "        return pd.read_sql(query, conn)\n",
    "\n",
    "# Exemple :\n",
    "# run_sql(\"SELECT TOP 5 * FROM Person.Person\")\n"
   ]
  }
 ],
 "metadata": {
  "kernelspec": {
   "display_name": "Python 3",
   "language": "python",
   "name": "python3"
  },
  "language_info": {
   "name": "python",
   "version": "3.x"
  }
 },
 "nbformat": 4,
 "nbformat_minor": 5
}
