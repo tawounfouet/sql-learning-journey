{
 "cells": [
  {
   "cell_type": "code",
   "execution_count": null,
   "id": "c6c17bf8-cc05-4830-9bdb-4b23e7934081",
   "metadata": {},
   "outputs": [],
   "source": []
  },
  {
   "cell_type": "markdown",
   "id": "9677e21a-4c42-4ca5-b8e9-f646d4566a76",
   "metadata": {},
   "source": [
    "### Création de la base de données – Objets « connexion » et « curseur »"
   ]
  },
  {
   "cell_type": "code",
   "execution_count": 4,
   "id": "15c60c6f-c9eb-43e7-9caf-7e67c4b8150a",
   "metadata": {},
   "outputs": [],
   "source": [
    "import sqlite3\n",
    "\n",
    "fichierDonnees =\"./bd_test.sq3\" \n",
    "\n",
    "#Vous créez alors un objet-connexion, à l’aide de la fonction-fabrique connect(). Cet objet assurera\n",
    "# l’interface entre votre programme et la base de données.\n",
    "conn =sqlite3.connect(fichierDonnees)\n",
    "\n",
    "# cursor/curseur est un objet-interface qui est une sorte de tampon mémoire intermédiaire,\n",
    "# destiné à mémoriser temporairement les données en cours de traitement, ainsi que \n",
    "#les opérations que vous effectuez sur elles, avant leur transfert définitif dans la base de données. \n",
    "cur =conn.cursor()"
   ]
  },
  {
   "cell_type": "code",
   "execution_count": 5,
   "id": "d4e2dbe3-b224-40ac-923f-94d554ae7ed7",
   "metadata": {},
   "outputs": [
    {
     "data": {
      "text/plain": [
       "<sqlite3.Cursor at 0x19d23ab3ec0>"
      ]
     },
     "execution_count": 5,
     "metadata": {},
     "output_type": "execute_result"
    }
   ],
   "source": [
    "# rédiger une première requête SQL pour demander la création d’une nouvelle table :\n",
    "# Les requête sont exprimés dans une chaîne de caractères classique, que nous transmettons au curseur\n",
    "# par l’intermédiaire de sa méthode execute().\n",
    "cur.execute(\"CREATE TABLE membres (age INTEGER, nom TEXT, taille REAL)\") "
   ]
  },
  {
   "cell_type": "code",
   "execution_count": 6,
   "id": "10adcf27-b1ba-4a39-8862-f158c7a7a530",
   "metadata": {},
   "outputs": [
    {
     "data": {
      "text/plain": [
       "<sqlite3.Cursor at 0x19d23ab3ec0>"
      ]
     },
     "execution_count": 6,
     "metadata": {},
     "output_type": "execute_result"
    }
   ],
   "source": [
    "# Nous pouvons maintenant entrer des enregistrements : \n",
    "# Attention, à ce stade des opérations, les enregistrement sont dans le tampon du curseur,\n",
    "# mais ils n’ont pas encore été transférés véritablement dans la base de données. \n",
    "cur.execute(\"INSERT INTO membres(age,nom,taille) VALUES(21,'Dupont',1.83)\")\n",
    "cur.execute(\"INSERT INTO membres(age,nom,taille) VALUES(15,'Blumâr',1.57)\")\n",
    "cur.execute(\"INSERT Into membres(age,nom,taille) VALUES(18,'Özémir',1.69)\")"
   ]
  },
  {
   "cell_type": "code",
   "execution_count": 7,
   "id": "c230acd5-c811-45b6-9f4b-c25c3342d212",
   "metadata": {},
   "outputs": [],
   "source": [
    "# Le transfert dans la basse de données sera déclenché par \n",
    "# la méthode commit() de l’objet connexion :\n",
    "conn.commit() "
   ]
  },
  {
   "cell_type": "code",
   "execution_count": 8,
   "id": "3dea30ff-f6fe-4690-9671-f19a1fb98494",
   "metadata": {},
   "outputs": [],
   "source": [
    "# Le curseur peut alors être refermé, de même que la connexion, si le travail est terminé97\n",
    "cur.close()\n",
    "conn.close() "
   ]
  },
  {
   "cell_type": "markdown",
   "id": "917c0cfc-b286-433b-9bd5-7c2d384c6fd5",
   "metadata": {},
   "source": []
  },
  {
   "cell_type": "markdown",
   "id": "b580ab0b-de5c-4f41-925d-2afe56babfd1",
   "metadata": {},
   "source": [
    "### Connexion à une base de données existante"
   ]
  },
  {
   "cell_type": "code",
   "execution_count": 10,
   "id": "823aeb16-de0c-41dc-aa79-0162fd70e22b",
   "metadata": {},
   "outputs": [
    {
     "data": {
      "text/plain": [
       "<sqlite3.Cursor at 0x19d23c548c0>"
      ]
     },
     "execution_count": 10,
     "metadata": {},
     "output_type": "execute_result"
    }
   ],
   "source": [
    "import sqlite3\n",
    "\n",
    "conn =sqlite3.connect(\"bd_test.sq3\")\n",
    "cur =conn.cursor() \n",
    "\n",
    "cur.execute(\"SELECT * FROM membres\") "
   ]
  },
  {
   "cell_type": "markdown",
   "id": "bd6ea56f-3f9a-40bf-98da-7c9bed369b81",
   "metadata": {},
   "source": [
    "l’objet-curseur produit par Python est un **itérateur**, c’est-à-dire un dispositif générateur de séquences.\n",
    "\n",
    "Les enregistrement sélectionnés sont donc à présent dans le curseur. Si nous voulons les voir, nous\n",
    "devons les en extraire. Cela peut être réalisé de deux façons : \n",
    "- Vous pouvez parcourir directement la séquence qu’il produit, à l’aide d’une **boucle for classique** ; vous obtenez une **série de tuples**\n",
    "- ou bien la recueillir dans une **liste** ou un **tuple** en vue d’un traitement ultérieur (à l’aide des\n",
    "fonctions intégrées list() et tuple())"
   ]
  },
  {
   "cell_type": "code",
   "execution_count": 16,
   "id": "62e8087c-ef5d-4626-9b6c-f80f095f0e87",
   "metadata": {},
   "outputs": [
    {
     "name": "stdout",
     "output_type": "stream",
     "text": [
      "(21, 'Dupont', 1.83)\n",
      "(15, 'Blumâr', 1.57)\n",
      "(18, 'Özémir', 1.69)\n"
     ]
    }
   ],
   "source": [
    "# Mthode 1\n",
    "cur.execute(\"SELECT * FROM membres\") \n",
    "for l in cur:\n",
    "    print(l) "
   ]
  },
  {
   "cell_type": "code",
   "execution_count": 14,
   "id": "0d3697ef-3be2-4759-9845-41ee12c7e74f",
   "metadata": {},
   "outputs": [
    {
     "data": {
      "text/plain": [
       "[(21, 'Dupont', 1.83), (15, 'Blumâr', 1.57), (18, 'Özémir', 1.69)]"
      ]
     },
     "execution_count": 14,
     "metadata": {},
     "output_type": "execute_result"
    }
   ],
   "source": [
    "# Methode 2\n",
    "cur.execute(\"SELECT * FROM membres\")\n",
    "list(cur)"
   ]
  },
  {
   "cell_type": "markdown",
   "id": "c3d0952d-4fde-4387-91f6-2208c4981985",
   "metadata": {},
   "source": [
    "D’une manière plus classique, vous pouvez également faire appel à la méthode **fetchall( )** du curseur,\n",
    "qui renvoie elle aussi une liste de tuples :"
   ]
  },
  {
   "cell_type": "code",
   "execution_count": 17,
   "id": "a35e3ade-fc57-417c-af6f-cc8935a4633e",
   "metadata": {},
   "outputs": [
    {
     "data": {
      "text/plain": [
       "[(21, 'Dupont', 1.83), (15, 'Blumâr', 1.57), (18, 'Özémir', 1.69)]"
      ]
     },
     "execution_count": 17,
     "metadata": {},
     "output_type": "execute_result"
    }
   ],
   "source": [
    "cur.execute(\"SELECT * FROM membres\")\n",
    "cur.fetchall()"
   ]
  },
  {
   "cell_type": "code",
   "execution_count": 18,
   "id": "7684a9a1-73d2-4e32-80a8-7ee8e01236d7",
   "metadata": {},
   "outputs": [
    {
     "data": {
      "text/plain": [
       "<sqlite3.Cursor at 0x19d23c548c0>"
      ]
     },
     "execution_count": 18,
     "metadata": {},
     "output_type": "execute_result"
    }
   ],
   "source": [
    "# Tant que le curseur reste ouvert, vous pouvez bien entendu ajouter des enregistrements\n",
    "# supplémentaires\n",
    "cur.execute(\"INSERT INTO membres(age,nom,taille) VALUES(19,'Ricard',1.75)\")"
   ]
  },
  {
   "cell_type": "markdown",
   "id": "547680ae-65ce-4ddd-b0c1-30ca02eb7041",
   "metadata": {},
   "source": [
    "Dans un programme concret, les données à enregistrer se présenteront la plupart du temps dans des\n",
    "variables Python.\n",
    "\n",
    "La bonne technique est illustrée ci-après : la chaîne « patron » utilise le point d’interrogation comme\n",
    "balise de conversion, et le formatage proprement dit est pris en charge par la méthode execute() du\n",
    "curseur :"
   ]
  },
  {
   "cell_type": "code",
   "execution_count": 19,
   "id": "3251cf72-ca87-4347-a226-52939f015ef0",
   "metadata": {},
   "outputs": [],
   "source": [
    "data =[(17,\"Durand\",1.74),(22,\"Berger\",1.71),(20,\"Weber\",1.65)]\n",
    "\n",
    "for tu in data:\n",
    "    cur.execute(\"INSERT INTO membres(age,nom,taille) VALUES(?,?,?)\", tu)\n",
    "\n",
    "conn.commit() "
   ]
  },
  {
   "cell_type": "code",
   "execution_count": 20,
   "id": "b2b1d1fc-900b-4722-85a9-35b9038419d6",
   "metadata": {},
   "outputs": [
    {
     "name": "stdout",
     "output_type": "stream",
     "text": [
      "(21, 'Dupont', 1.83)\n",
      "(15, 'Blumâr', 1.57)\n",
      "(18, 'Özémir', 1.69)\n",
      "(19, 'Ricard', 1.75)\n",
      "(17, 'Durand', 1.74)\n",
      "(22, 'Berger', 1.71)\n",
      "(20, 'Weber', 1.65)\n"
     ]
    }
   ],
   "source": [
    "cur.execute(\"SELECT * FROM membres\") \n",
    "for l in cur:\n",
    "    print(l)"
   ]
  },
  {
   "cell_type": "code",
   "execution_count": 21,
   "id": "6a52f374-2052-43e3-8c9d-c4d36cdadea0",
   "metadata": {},
   "outputs": [
    {
     "data": {
      "text/plain": [
       "<sqlite3.Cursor at 0x19d23c548c0>"
      ]
     },
     "execution_count": 21,
     "metadata": {},
     "output_type": "execute_result"
    }
   ],
   "source": [
    "# Pour modifier un ou plusieurs enregistrements, exécutez une requête du type : \n",
    "cur.execute(\"UPDATE membres SET nom ='Gerart' WHERE nom='Ricard'\")"
   ]
  },
  {
   "cell_type": "code",
   "execution_count": 22,
   "id": "f79289c4-31f4-4896-8928-7a2eb7f19408",
   "metadata": {},
   "outputs": [
    {
     "name": "stdout",
     "output_type": "stream",
     "text": [
      "(21, 'Dupont', 1.83)\n",
      "(15, 'Blumâr', 1.57)\n",
      "(18, 'Özémir', 1.69)\n",
      "(19, 'Gerart', 1.75)\n",
      "(17, 'Durand', 1.74)\n",
      "(22, 'Berger', 1.71)\n",
      "(20, 'Weber', 1.65)\n"
     ]
    }
   ],
   "source": [
    "cur.execute(\"SELECT * FROM membres\") \n",
    "for l in cur:\n",
    "    print(l)"
   ]
  },
  {
   "cell_type": "code",
   "execution_count": 25,
   "id": "9bfd846b-6927-4eda-9b48-019fad01b742",
   "metadata": {},
   "outputs": [
    {
     "name": "stdout",
     "output_type": "stream",
     "text": [
      "len cursor : 0\n",
      "len cursor : 0\n"
     ]
    }
   ],
   "source": [
    "# Pour supprimer un ou plusieurs enregistrements, utilisez une requête telle que :\n",
    "#print(\"len cursor :\", len(list(cur)))\n",
    "cur.execute(\"DELETE FROM membres WHERE nom='Gerart'\")\n",
    "# print(\"len cursor :\", len(list(cur)))"
   ]
  },
  {
   "cell_type": "code",
   "execution_count": 26,
   "id": "c0298b69-06e3-4e65-bc3d-a2f6e0ac2617",
   "metadata": {},
   "outputs": [
    {
     "name": "stdout",
     "output_type": "stream",
     "text": [
      "(21, 'Dupont', 1.83)\n",
      "(15, 'Blumâr', 1.57)\n",
      "(18, 'Özémir', 1.69)\n",
      "(17, 'Durand', 1.74)\n",
      "(22, 'Berger', 1.71)\n",
      "(20, 'Weber', 1.65)\n"
     ]
    }
   ],
   "source": [
    "cur.execute(\"SELECT * FROM membres\") \n",
    "for l in cur:\n",
    "    print(l)"
   ]
  },
  {
   "cell_type": "code",
   "execution_count": null,
   "id": "532fb918-28fd-4b51-a7f7-3722fdb92901",
   "metadata": {},
   "outputs": [],
   "source": []
  },
  {
   "cell_type": "code",
   "execution_count": null,
   "id": "7fabc592-5b9a-40d2-a0eb-c2da3f684484",
   "metadata": {},
   "outputs": [],
   "source": []
  },
  {
   "cell_type": "code",
   "execution_count": 32,
   "id": "a91c17b4-9946-44f8-ac77-3b47bb0dd335",
   "metadata": {},
   "outputs": [],
   "source": [
    "# Utilisation d'une petite base de données acceptant les requêtes SQL\n",
    "import sqlite3\n",
    "baseDonn = sqlite3.connect(\"musique.sq3\")\n",
    "cur = baseDonn.cursor()"
   ]
  },
  {
   "cell_type": "code",
   "execution_count": 28,
   "id": "8e944801-76b3-460b-af92-2d28f690ca83",
   "metadata": {},
   "outputs": [
    {
     "name": "stdout",
     "output_type": "stream",
     "text": [
      "('Mozart', 'Concerto piano N°12', 25, 'M. Perahia')\n",
      "('Vivaldi', 'Les quatre saisons', 20, 'T.Pinnock')\n",
      "('Brahms', 'Concerto violon N°2', 40, 'A. Grumiaux')\n",
      "('Beethoven', 'Sonate \"au clair de lune\"', 14, 'W. Kempf')\n",
      "('Beethoven', 'Sonate \"pathétique\"', 17, 'W. Kempf')\n",
      "('Schubert', 'Quintette \"la truite\"', 39, 'SE of London')\n",
      "('Haydn', 'La création', 109, 'H. Von Karajan')\n",
      "('Chopin', 'Concerto piano N°1', 42, 'M.J. Pires')\n",
      "('Bach', 'Toccata et fugue', 9, 'P. Burmester')\n",
      "('Beethoven', 'Concerto piano N°4', 33, 'M. Pollini')\n",
      "('Mozart', 'Symphonie N°40', 29, 'F. Bruggen')\n",
      "('Mozart', 'Concerto piano N°22', 35, 'S. Richter')\n",
      "('Beethoven', 'Concerto piano N°3', 37, 'S. Richter')\n"
     ]
    }
   ],
   "source": [
    "cur.execute(\"SELECT * FROM oeuvres\") \n",
    "for l in cur:\n",
    "    print(l)"
   ]
  },
  {
   "cell_type": "code",
   "execution_count": 33,
   "id": "ee6fe071-a02c-4c33-83a9-24b2182045fd",
   "metadata": {},
   "outputs": [
    {
     "name": "stdout",
     "output_type": "stream",
     "text": [
      "('Mozart', 1756, 1791)\n",
      "('Beethoven', 1770, 1827)\n",
      "('Haendel', 1685, 1759)\n",
      "('Schubert', 1797, 1828)\n",
      "('Vivaldi', 1678, 1741)\n",
      "('Monteverdi', 1567, 1643)\n",
      "('Chopin', 1810, 1849)\n",
      "('Bach', 1685, 1750)\n",
      "('Shostakovich', 1906, 1975)\n"
     ]
    }
   ],
   "source": [
    "cur.execute(\"SELECT * FROM compositeurs\") \n",
    "for l in cur:\n",
    "    print(l)"
   ]
  },
  {
   "cell_type": "code",
   "execution_count": 30,
   "id": "922c2409-31f8-4443-b359-90cfed2de0ad",
   "metadata": {},
   "outputs": [
    {
     "name": "stdout",
     "output_type": "stream",
     "text": [
      "Veuillez entrer votre requête SQL (ou <Enter> pour terminer) :\n"
     ]
    },
    {
     "name": "stdin",
     "output_type": "stream",
     "text": [
      " select * from oeuvres;\n"
     ]
    },
    {
     "name": "stdout",
     "output_type": "stream",
     "text": [
      "*** Requête SQL incorrecte ***\n",
      "\n",
      "Veuillez entrer votre requête SQL (ou <Enter> pour terminer) :\n"
     ]
    },
    {
     "name": "stdin",
     "output_type": "stream",
     "text": [
      " n\n"
     ]
    },
    {
     "name": "stdout",
     "output_type": "stream",
     "text": [
      "*** Requête SQL incorrecte ***\n",
      "\n",
      "Veuillez entrer votre requête SQL (ou <Enter> pour terminer) :\n"
     ]
    },
    {
     "name": "stdin",
     "output_type": "stream",
     "text": [
      " \n",
      "Confirmez-vous l'enregistrement de l'état actuel (o/n) ?  n\n"
     ]
    }
   ],
   "source": [
    "# Modèle Exemple pour l'exercise\n",
    "\n",
    "while 1:\n",
    "    print(\"Veuillez entrer votre requête SQL (ou <Enter> pour terminer) :\")\n",
    "    requete = input()\n",
    "    if requete ==\"\":\n",
    "        break\n",
    "    try:\n",
    "        cur.execute(requete) # exécution de la requête SQL\n",
    "    except:\n",
    "        print('*** Requête SQL incorrecte ***')\n",
    "    else:\n",
    "        for enreg in cur: # Affichage du résultat\n",
    "            print(enreg)\n",
    "    print()\n",
    "\n",
    "choix = input(\"Confirmez-vous l'enregistrement de l'état actuel (o/n) ? \")\n",
    "if choix[0] == \"o\" or choix[0] == \"O\":\n",
    "    baseDonn.commit()\n",
    "else:\n",
    "    baseDonn.close()"
   ]
  },
  {
   "cell_type": "code",
   "execution_count": null,
   "id": "b0cd8bdf-6612-4e16-a0c6-89b0671aee5f",
   "metadata": {},
   "outputs": [],
   "source": []
  },
  {
   "cell_type": "markdown",
   "id": "f80d7d96-57f0-4234-a4ee-05441d54a578",
   "metadata": {},
   "source": [
    "**La requête select**"
   ]
  },
  {
   "cell_type": "code",
   "execution_count": 34,
   "id": "97ab9ada-6e88-4b8d-b175-522651b08680",
   "metadata": {},
   "outputs": [
    {
     "name": "stdout",
     "output_type": "stream",
     "text": [
      "('Mozart', 'Concerto piano N°12', 25, 'M. Perahia')\n",
      "('Vivaldi', 'Les quatre saisons', 20, 'T.Pinnock')\n",
      "('Brahms', 'Concerto violon N°2', 40, 'A. Grumiaux')\n",
      "('Beethoven', 'Sonate \"au clair de lune\"', 14, 'W. Kempf')\n",
      "('Beethoven', 'Sonate \"pathétique\"', 17, 'W. Kempf')\n",
      "('Schubert', 'Quintette \"la truite\"', 39, 'SE of London')\n",
      "('Haydn', 'La création', 109, 'H. Von Karajan')\n",
      "('Chopin', 'Concerto piano N°1', 42, 'M.J. Pires')\n",
      "('Bach', 'Toccata et fugue', 9, 'P. Burmester')\n",
      "('Beethoven', 'Concerto piano N°4', 33, 'M. Pollini')\n",
      "('Mozart', 'Symphonie N°40', 29, 'F. Bruggen')\n",
      "('Mozart', 'Concerto piano N°22', 35, 'S. Richter')\n",
      "('Beethoven', 'Concerto piano N°3', 37, 'S. Richter')\n"
     ]
    }
   ],
   "source": [
    "cur.execute(\"SELECT * FROM oeuvres\") \n",
    "for l in cur:\n",
    "    print(l)"
   ]
  },
  {
   "cell_type": "code",
   "execution_count": 35,
   "id": "2ed11154-fcf0-4b7d-9363-c04950c61545",
   "metadata": {},
   "outputs": [
    {
     "name": "stdout",
     "output_type": "stream",
     "text": [
      "('Mozart', 'Concerto piano N°12', 25, 'M. Perahia')\n",
      "('Mozart', 'Symphonie N°40', 29, 'F. Bruggen')\n",
      "('Mozart', 'Concerto piano N°22', 35, 'S. Richter')\n"
     ]
    }
   ],
   "source": [
    "cur.execute(\"select * from oeuvres where comp = 'Mozart'\") \n",
    "for l in cur:\n",
    "    print(l)"
   ]
  },
  {
   "cell_type": "code",
   "execution_count": 36,
   "id": "4ce5dbd6-ad2a-4a99-a925-611ce71f8ff3",
   "metadata": {},
   "outputs": [
    {
     "name": "stdout",
     "output_type": "stream",
     "text": [
      "('Bach', 'Toccata et fugue', 9)\n",
      "('Beethoven', 'Sonate \"au clair de lune\"', 14)\n",
      "('Beethoven', 'Sonate \"pathétique\"', 17)\n",
      "('Beethoven', 'Concerto piano N°4', 33)\n",
      "('Beethoven', 'Concerto piano N°3', 37)\n",
      "('Brahms', 'Concerto violon N°2', 40)\n",
      "('Chopin', 'Concerto piano N°1', 42)\n",
      "('Haydn', 'La création', 109)\n",
      "('Mozart', 'Concerto piano N°12', 25)\n",
      "('Mozart', 'Symphonie N°40', 29)\n",
      "('Mozart', 'Concerto piano N°22', 35)\n",
      "('Schubert', 'Quintette \"la truite\"', 39)\n",
      "('Vivaldi', 'Les quatre saisons', 20)\n"
     ]
    }
   ],
   "source": [
    "cur.execute(\"select comp, titre, duree from oeuvres order by comp\") \n",
    "for l in cur:\n",
    "    print(l)"
   ]
  },
  {
   "cell_type": "code",
   "execution_count": 37,
   "id": "8f2d9ce8-0b31-464d-ab5a-bfdd0640b21c",
   "metadata": {},
   "outputs": [
    {
     "name": "stdout",
     "output_type": "stream",
     "text": [
      "('Sonate \"au clair de lune\"', 'Beethoven')\n",
      "('Sonate \"pathétique\"', 'Beethoven')\n",
      "('Concerto piano N°4', 'Beethoven')\n",
      "('Concerto piano N°3', 'Beethoven')\n",
      "('Concerto piano N°12', 'Mozart')\n",
      "('Symphonie N°40', 'Mozart')\n",
      "('Concerto piano N°22', 'Mozart')\n"
     ]
    }
   ],
   "source": [
    "cur.execute(\"select titre, comp from oeuvres where comp='Beethoven' or comp='Mozart'order by comp\") \n",
    "for l in cur:\n",
    "    print(l)"
   ]
  },
  {
   "cell_type": "code",
   "execution_count": 38,
   "id": "a0f46176-303c-448f-84b5-3d8668d1f205",
   "metadata": {},
   "outputs": [
    {
     "name": "stdout",
     "output_type": "stream",
     "text": [
      "(13,)\n"
     ]
    }
   ],
   "source": [
    "cur.execute(\"select count(*) from oeuvres\") \n",
    "for l in cur:\n",
    "    print(l)"
   ]
  },
  {
   "cell_type": "code",
   "execution_count": 40,
   "id": "3051b8ed-90c1-4794-a396-5acd6bb0ea05",
   "metadata": {},
   "outputs": [
    {
     "name": "stdout",
     "output_type": "stream",
     "text": [
      "(449,)\n"
     ]
    }
   ],
   "source": [
    "cur.execute(\"select sum(duree) from oeuvres\") \n",
    "for l in cur:\n",
    "    print(l)"
   ]
  },
  {
   "cell_type": "code",
   "execution_count": 41,
   "id": "375a772e-4838-4e60-80bd-97c7fbad9210",
   "metadata": {},
   "outputs": [
    {
     "name": "stdout",
     "output_type": "stream",
     "text": [
      "(34.53846153846154,)\n"
     ]
    }
   ],
   "source": [
    "cur.execute(\"select avg(duree) from oeuvres\") \n",
    "for l in cur:\n",
    "    print(l)"
   ]
  },
  {
   "cell_type": "code",
   "execution_count": 42,
   "id": "c4190858-d010-4ee5-8833-45d5ac709894",
   "metadata": {},
   "outputs": [
    {
     "name": "stdout",
     "output_type": "stream",
     "text": [
      "(101,)\n"
     ]
    }
   ],
   "source": [
    "cur.execute(\"select sum(duree) from oeuvres where comp='Beethoven'\") \n",
    "for l in cur:\n",
    "    print(l)"
   ]
  },
  {
   "cell_type": "code",
   "execution_count": 43,
   "id": "20e43509-cdb9-40a8-9dd0-7850c282dfe5",
   "metadata": {},
   "outputs": [
    {
     "name": "stdout",
     "output_type": "stream",
     "text": [
      "('Haydn', 'La création', 109, 'H. Von Karajan')\n",
      "('Chopin', 'Concerto piano N°1', 42, 'M.J. Pires')\n",
      "('Brahms', 'Concerto violon N°2', 40, 'A. Grumiaux')\n",
      "('Schubert', 'Quintette \"la truite\"', 39, 'SE of London')\n",
      "('Beethoven', 'Concerto piano N°3', 37, 'S. Richter')\n"
     ]
    }
   ],
   "source": [
    "cur.execute(\"select * from oeuvres where duree >35 order by duree desc\") \n",
    "for l in cur:\n",
    "    print(l)"
   ]
  },
  {
   "cell_type": "code",
   "execution_count": 44,
   "id": "ba6240bb-94ac-4aca-87d5-e3f02f2f4a62",
   "metadata": {},
   "outputs": [
    {
     "name": "stdout",
     "output_type": "stream",
     "text": [
      "('Mozart', 1756, 1791)\n",
      "('Haendel', 1685, 1759)\n",
      "('Vivaldi', 1678, 1741)\n",
      "('Monteverdi', 1567, 1643)\n",
      "('Bach', 1685, 1750)\n"
     ]
    }
   ],
   "source": [
    "cur.execute(\"select * from compositeurs where a_mort < 1800 \") \n",
    "for l in cur:\n",
    "    print(l)"
   ]
  },
  {
   "cell_type": "code",
   "execution_count": 45,
   "id": "c61dec25-9b4e-48ad-9362-9c44a28f7894",
   "metadata": {},
   "outputs": [
    {
     "name": "stdout",
     "output_type": "stream",
     "text": [
      "('Mozart', 1756, 1791)\n",
      "('Haendel', 1685, 1759)\n",
      "('Vivaldi', 1678, 1741)\n"
     ]
    }
   ],
   "source": [
    "cur.execute(\"select * from compositeurs where a_mort <1800 limit 3 \") \n",
    "for l in cur:\n",
    "    print(l)"
   ]
  },
  {
   "cell_type": "markdown",
   "id": "9a93a7ea-633c-400b-9417-6d996d84451f",
   "metadata": {},
   "source": [
    "**Requetes plus elaborées**"
   ]
  },
  {
   "cell_type": "code",
   "execution_count": 46,
   "id": "99725e16-b3fe-4345-9932-aa2901c139fe",
   "metadata": {},
   "outputs": [
    {
     "name": "stdout",
     "output_type": "stream",
     "text": [
      "('Concerto piano N°12', 'Mozart', 1756)\n",
      "('Les quatre saisons', 'Vivaldi', 1678)\n",
      "('Sonate \"au clair de lune\"', 'Beethoven', 1770)\n",
      "('Sonate \"pathétique\"', 'Beethoven', 1770)\n",
      "('Quintette \"la truite\"', 'Schubert', 1797)\n",
      "('Concerto piano N°1', 'Chopin', 1810)\n",
      "('Toccata et fugue', 'Bach', 1685)\n",
      "('Concerto piano N°4', 'Beethoven', 1770)\n",
      "('Symphonie N°40', 'Mozart', 1756)\n",
      "('Concerto piano N°22', 'Mozart', 1756)\n",
      "('Concerto piano N°3', 'Beethoven', 1770)\n"
     ]
    }
   ],
   "source": [
    "cur.execute(\"select o.titre, c.comp, c.a_naiss from oeuvres as o, compositeurs as c where o.comp = c.comp \") \n",
    "for l in cur:\n",
    "    print(l)"
   ]
  },
  {
   "cell_type": "code",
   "execution_count": 47,
   "id": "e08c155b-7791-4f46-8d0e-20c1ca442485",
   "metadata": {},
   "outputs": [
    {
     "name": "stdout",
     "output_type": "stream",
     "text": [
      "('Mozart', 'Concerto piano N°12', 1756)\n",
      "('Vivaldi', 'Les quatre saisons', 1678)\n",
      "('Beethoven', 'Sonate \"au clair de lune\"', 1770)\n",
      "('Beethoven', 'Sonate \"pathétique\"', 1770)\n",
      "('Schubert', 'Quintette \"la truite\"', 1797)\n",
      "('Chopin', 'Concerto piano N°1', 1810)\n",
      "('Bach', 'Toccata et fugue', 1685)\n",
      "('Beethoven', 'Concerto piano N°4', 1770)\n",
      "('Mozart', 'Symphonie N°40', 1756)\n",
      "('Mozart', 'Concerto piano N°22', 1756)\n",
      "('Beethoven', 'Concerto piano N°3', 1770)\n"
     ]
    }
   ],
   "source": [
    "cur.execute(\"select comp, titre, a_naiss from oeuvres join compositeurs using(comp) \") \n",
    "for l in cur:\n",
    "    print(l)"
   ]
  },
  {
   "cell_type": "code",
   "execution_count": 48,
   "id": "c817b604-e7ac-4a39-a799-57de9254aaf0",
   "metadata": {},
   "outputs": [
    {
     "name": "stdout",
     "output_type": "stream",
     "text": [
      "('Vivaldi', 'Les quatre saisons', 20, 'T.Pinnock', 1678, 1741)\n",
      "('Bach', 'Toccata et fugue', 9, 'P. Burmester', 1685, 1750)\n",
      "('Mozart', 'Concerto piano N°12', 25, 'M. Perahia', 1756, 1791)\n",
      "('Mozart', 'Symphonie N°40', 29, 'F. Bruggen', 1756, 1791)\n",
      "('Mozart', 'Concerto piano N°22', 35, 'S. Richter', 1756, 1791)\n",
      "('Beethoven', 'Sonate \"au clair de lune\"', 14, 'W. Kempf', 1770, 1827)\n",
      "('Beethoven', 'Sonate \"pathétique\"', 17, 'W. Kempf', 1770, 1827)\n",
      "('Beethoven', 'Concerto piano N°4', 33, 'M. Pollini', 1770, 1827)\n",
      "('Beethoven', 'Concerto piano N°3', 37, 'S. Richter', 1770, 1827)\n",
      "('Schubert', 'Quintette \"la truite\"', 39, 'SE of London', 1797, 1828)\n",
      "('Chopin', 'Concerto piano N°1', 42, 'M.J. Pires', 1810, 1849)\n"
     ]
    }
   ],
   "source": [
    "cur.execute(\"select * from oeuvres join compositeurs using(comp) order by a_mort  \") \n",
    "for l in cur:\n",
    "    print(l)"
   ]
  },
  {
   "cell_type": "code",
   "execution_count": 49,
   "id": "9fa16928-107e-4839-a8c2-3114370e2610",
   "metadata": {},
   "outputs": [
    {
     "name": "stdout",
     "output_type": "stream",
     "text": [
      "('Bach',)\n",
      "('Beethoven',)\n",
      "('Chopin',)\n",
      "('Mozart',)\n",
      "('Schubert',)\n",
      "('Vivaldi',)\n"
     ]
    }
   ],
   "source": [
    "cur.execute(\"select comp from oeuvres intersect select comp from compositeurs\") \n",
    "for l in cur:\n",
    "    print(l)"
   ]
  },
  {
   "cell_type": "code",
   "execution_count": 50,
   "id": "acd4a9a0-58a2-4f78-a305-66bebc60876e",
   "metadata": {},
   "outputs": [
    {
     "name": "stdout",
     "output_type": "stream",
     "text": [
      "('Brahms',)\n",
      "('Haydn',)\n"
     ]
    }
   ],
   "source": [
    "cur.execute(\"select comp from oeuvres except select comp from compositeurs\") \n",
    "for l in cur:\n",
    "    print(l)"
   ]
  },
  {
   "cell_type": "code",
   "execution_count": 51,
   "id": "3d5c54ed-f729-4284-b42f-ce9ad2fa908d",
   "metadata": {},
   "outputs": [
    {
     "name": "stdout",
     "output_type": "stream",
     "text": [
      "('Haendel',)\n",
      "('Monteverdi',)\n",
      "('Shostakovich',)\n"
     ]
    }
   ],
   "source": [
    "cur.execute(\"select comp from compositeurs except select comp from oeuvres\") \n",
    "for l in cur:\n",
    "    print(l)"
   ]
  },
  {
   "cell_type": "code",
   "execution_count": 52,
   "id": "34dbac9b-2d35-4c45-912d-a6c39035d25f",
   "metadata": {},
   "outputs": [
    {
     "name": "stdout",
     "output_type": "stream",
     "text": [
      "('Bach',)\n",
      "('Beethoven',)\n",
      "('Brahms',)\n",
      "('Chopin',)\n",
      "('Haendel',)\n",
      "('Haydn',)\n",
      "('Monteverdi',)\n",
      "('Mozart',)\n",
      "('Schubert',)\n",
      "('Shostakovich',)\n",
      "('Vivaldi',)\n"
     ]
    }
   ],
   "source": [
    "cur.execute(\"select distinct comp from oeuvres union select comp from compositeurs\") \n",
    "for l in cur:\n",
    "    print(l)"
   ]
  },
  {
   "cell_type": "code",
   "execution_count": null,
   "id": "26997476-bb76-49f1-9d00-6ea1888e9b16",
   "metadata": {},
   "outputs": [],
   "source": []
  },
  {
   "cell_type": "code",
   "execution_count": null,
   "id": "70403bd5-cbfa-4f2c-aabd-3c379d850f16",
   "metadata": {},
   "outputs": [],
   "source": []
  },
  {
   "cell_type": "markdown",
   "id": "d52efc42-45ce-4d01-a135-12a7941535c5",
   "metadata": {},
   "source": [
    "## Ébauche d’un logiciel client pour PostgreSQL "
   ]
  },
  {
   "cell_type": "markdown",
   "id": "bd0a76d9-3ed4-475c-815d-a0ed08c61a3e",
   "metadata": {},
   "source": [
    "#### Décrire la base de données dans un dictionnaire d’application\n"
   ]
  },
  {
   "cell_type": "code",
   "execution_count": 1,
   "id": "bd463148-9c91-4024-ae74-027a5f371bad",
   "metadata": {},
   "outputs": [],
   "source": [
    "class Glob:\n",
    "    \"\"\"Espace de noms pour les variables et fonctions <pseudo-globales>\"\"\"\n",
    "\n",
    "    dbName = \"discotheque\"      # nom de la base de données\n",
    "    user = \"postgres\"              # propriétaire ou utilisateur\n",
    "    passwd = \"postgres\"            # mot de passe d'accès\n",
    "    host = \"127.0.0.1\"          # nom ou adresse IP du serveur\n",
    "    port =5432\n",
    "\n",
    "    # Structure de la base de données.  Dictionnaire des tables & champs :\n",
    "    dicoT ={\"compositeurs\":[('id_comp', \"k\", \"clé primaire\"),\n",
    "                            ('nom', 25, \"nom\"),\n",
    "                            ('prenom', 25, \"prénom\"),\n",
    "                            ('a_naiss', \"i\", \"année de naissance\"),\n",
    "                            ('a_mort', \"i\", \"année de mort\")],\n",
    "            \"oeuvres\":[('id_oeuv', \"k\", \"clé primaire\"),\n",
    "                       ('id_comp', \"i\", \"clé compositeur\"),\n",
    "                       ('titre', 50, \"titre de l'oeuvre\"),\n",
    "                       ('duree', \"i\", \"durée (en minutes)\"),\n",
    "                       ('interpr', 30, \"interprète principal\")]}"
   ]
  },
  {
   "cell_type": "code",
   "execution_count": 2,
   "id": "26f86761-3356-491b-9c5c-9ea52d84343b",
   "metadata": {},
   "outputs": [
    {
     "data": {
      "text/plain": [
       "'discotheque'"
      ]
     },
     "execution_count": 2,
     "metadata": {},
     "output_type": "execute_result"
    }
   ],
   "source": [
    "Glob.dbName"
   ]
  },
  {
   "cell_type": "code",
   "execution_count": 56,
   "id": "1add01b3-4466-44e2-afc9-bfe0c1f4d9a5",
   "metadata": {},
   "outputs": [
    {
     "data": {
      "text/plain": [
       "'127.0.0.1'"
      ]
     },
     "execution_count": 56,
     "metadata": {},
     "output_type": "execute_result"
    }
   ],
   "source": [
    "Glob.host"
   ]
  },
  {
   "cell_type": "code",
   "execution_count": 3,
   "id": "b734924d-a1ef-405e-9cef-02a3facddd95",
   "metadata": {},
   "outputs": [
    {
     "data": {
      "text/plain": [
       "{'compositeurs': [('id_comp', 'k', 'clé primaire'),\n",
       "  ('nom', 25, 'nom'),\n",
       "  ('prenom', 25, 'prénom'),\n",
       "  ('a_naiss', 'i', 'année de naissance'),\n",
       "  ('a_mort', 'i', 'année de mort')],\n",
       " 'oeuvres': [('id_oeuv', 'k', 'clé primaire'),\n",
       "  ('id_comp', 'i', 'clé compositeur'),\n",
       "  ('titre', 50, \"titre de l'oeuvre\"),\n",
       "  ('duree', 'i', 'durée (en minutes)'),\n",
       "  ('interpr', 30, 'interprète principal')]}"
      ]
     },
     "execution_count": 3,
     "metadata": {},
     "output_type": "execute_result"
    }
   ],
   "source": [
    "Glob.dicoT"
   ]
  },
  {
   "cell_type": "markdown",
   "id": "7e00c8f7-499b-4281-939b-2afde3f0d03e",
   "metadata": {},
   "source": [
    "#### Définir une classe d’objets-interfaces\n"
   ]
  },
  {
   "cell_type": "code",
   "execution_count": 59,
   "id": "6c65ea7d-b08b-4231-b27a-718fd57924a2",
   "metadata": {},
   "outputs": [],
   "source": [
    "#!pip install pg8000"
   ]
  },
  {
   "cell_type": "code",
   "execution_count": null,
   "id": "00c1f119-0f1d-4f66-ba3a-114d32100eb3",
   "metadata": {},
   "outputs": [],
   "source": [
    "# -*- coding:Utf8 -*-\n",
    "\n",
    "import sys\n",
    "from pg8000 import DBAPI\n",
    "from dict_app import *\n",
    "\n",
    "class GestionBD:\n",
    "    \"Mise en place et interfaçage d'une base de données PostgreSQL\"\n",
    "    def __init__(self, dbName, user, passwd, host, port =5432):\n",
    "        \"Établissement de la connexion - Création du curseur\"\n",
    "        try:\n",
    "            self.baseDonn = DBAPI.connect(host =host, port =port,\n",
    "                                          database =dbName,\n",
    "                                          user=user, password=passwd)\n",
    "        except Exception as err:\n",
    "            print('La connexion avec la base de données a échoué :\\n'\\\n",
    "                  'Erreur détectée :\\n%s' % err)\n",
    "            self.echec =1\n",
    "        else:\n",
    "            self.cursor = self.baseDonn.cursor()   # création du curseur\n",
    "            self.echec =0\n",
    "\n",
    "    def creerTables(self, dicTables):\n",
    "        \"Création des tables décrites dans le dictionnaire <dicTables>.\"\n",
    "        for table in dicTables:            # parcours des clés du dictionn.\n",
    "            req = \"CREATE TABLE %s (\" % table\n",
    "            pk =''\n",
    "            for descr in dicTables[table]:\n",
    "                nomChamp = descr[0]        # libellé du champ à créer\n",
    "                tch = descr[1]             # type de champ à créer\n",
    "                if tch =='i':\n",
    "                    typeChamp ='INTEGER'\n",
    "                elif tch =='k':\n",
    "                    # champ 'clé primaire' (entier incrémenté automatiquement)\n",
    "                    typeChamp ='SERIAL'\n",
    "                    pk = nomChamp\n",
    "                else:\n",
    "                    typeChamp ='VARCHAR(%s)' % tch\n",
    "                req = req + \"%s %s, \" % (nomChamp, typeChamp)\n",
    "            if pk == '':\n",
    "                req = req[:-2] + \")\"\n",
    "            else:\n",
    "                req = req + \"CONSTRAINT %s_pk PRIMARY KEY(%s))\" % (pk, pk)\n",
    "            self.executerReq(req)\n",
    "\n",
    "    def supprimerTables(self, dicTables):\n",
    "        \"Suppression de toutes les tables décrites dans <dicTables>\"\n",
    "        for table in list(dicTables.keys()):\n",
    "            req =\"DROP TABLE %s\" % table\n",
    "            self.executerReq(req)\n",
    "        self.commit()                       # transfert -> disque\n",
    "\n",
    "    def executerReq(self, req, param =None):\n",
    "        \"Exécution de la requête <req>, avec détection d'erreur éventuelle\"\n",
    "        try:\n",
    "            self.cursor.execute(req, param)\n",
    "        except Exception as err:\n",
    "            # afficher la requête et le message d'erreur système :\n",
    "            print(\"Requête SQL incorrecte :\\n{}\\nErreur détectée :\".format(req))\n",
    "            print(err)\n",
    "            return 0\n",
    "        else:\n",
    "            return 1\n",
    "\n",
    "    def resultatReq(self):\n",
    "        \"renvoie le résultat de la requête précédente (une liste de tuples)\"\n",
    "        return self.cursor.fetchall()\n",
    "\n",
    "    def commit(self):\n",
    "        if self.baseDonn:\n",
    "            self.baseDonn.commit()         # transfert curseur -> disque\n",
    "\n",
    "    def close(self):\n",
    "        if self.baseDonn:\n",
    "            self.baseDonn.close()\n",
    "\n",
    "class Enregistreur:\n",
    "    \"\"\"classe pour gérer l'entrée d'enregistrements divers\"\"\"\n",
    "    def __init__(self, bd, table):\n",
    "        self.bd =bd\n",
    "        self.table =table\n",
    "        self.descriptif =Glob.dicoT[table]   # descriptif des champs\n",
    "\n",
    "    def entrer(self):\n",
    "        \"procédure d'entrée d'un enregistrement entier\"\n",
    "        champs =\"(\"           # ébauche de chaîne pour les noms de champs\n",
    "        valeurs =[]           # liste pour les valeurs correspondantes\n",
    "        # Demander successivement une valeur pour chaque champ :\n",
    "        for cha, type, nom in self.descriptif:\n",
    "            if type ==\"k\":    # on ne demandera pas le n° d'enregistrement\n",
    "                continue      # à l'utilisateur (numérotation auto.)\n",
    "            champs = champs + cha + \",\"\n",
    "            val = input(\"Entrez le champ %s :\" % nom)\n",
    "            if type ==\"i\":\n",
    "                val =int(val)\n",
    "            valeurs.append(val)\n",
    "\n",
    "        balises =\"(\" + \"%s,\" * len(valeurs)       # balises de conversion\n",
    "        champs = champs[:-1] + \")\"    # supprimer la dernière virgule,\n",
    "        balises = balises[:-1] + \")\"  # et ajouter une parenthèse\n",
    "        req =\"INSERT INTO %s %s VALUES %s\" % (self.table, champs, balises)\n",
    "        self.bd.executerReq(req, valeurs)\n",
    "\n",
    "        ch =input(\"Continuer (O/N) ? \")\n",
    "        if ch.upper() == \"O\":\n",
    "            return 0\n",
    "        else:\n",
    "            return 1\n",
    "\n",
    "###### Programme principal : #########\n",
    "\n",
    "# Création de l'objet-interface avec la base de données :\n",
    "bd = GestionBD(Glob.dbName, Glob.user, Glob.passwd, Glob.host, Glob.port)\n",
    "if bd.echec:\n",
    "    sys.exit()\n",
    "\n",
    "while 1:\n",
    "    print(\"\\nQue voulez-vous faire :\\n\"\\\n",
    "          \"1) Créer les tables de la base de données\\n\"\\\n",
    "          \"2) Supprimer les tables de la base de données ?\\n\"\\\n",
    "          \"3) Entrer des compositeurs\\n\"\\\n",
    "          \"4) Entrer des oeuvres\\n\"\\\n",
    "          \"5) Lister les compositeurs\\n\"\\\n",
    "          \"6) Lister les oeuvres\\n\"\\\n",
    "          \"7) Exécuter une requête SQL quelconque\\n\"\\\n",
    "          \"9) terminer ?                         Votre choix :\", end=' ')\n",
    "    ch = int(input())\n",
    "    if ch ==1:\n",
    "        # création de toutes les tables décrites dans le dictionnaire :\n",
    "        bd.creerTables(Glob.dicoT)\n",
    "    elif ch ==2:\n",
    "        # suppression de toutes les tables décrites dans le dic. :\n",
    "        bd.supprimerTables(Glob.dicoT)\n",
    "    elif ch ==3 or ch ==4:\n",
    "        # création d'un <enregistreur> de compositeurs ou d'oeuvres :\n",
    "        table ={3:'compositeurs', 4:'oeuvres'}[ch]\n",
    "        enreg =Enregistreur(bd, table)\n",
    "        while 1:\n",
    "            if enreg.entrer():\n",
    "                break\n",
    "    elif ch ==5 or ch ==6:\n",
    "        # listage de tous les compositeurs, ou toutes les oeuvres :\n",
    "        table ={5:'compositeurs', 6:'oeuvres'}[ch]\n",
    "        if bd.executerReq(\"SELECT * FROM %s\" % table):\n",
    "            # analyser le résultat de la requête ci-dessus :\n",
    "            records = bd.resultatReq()      # ce sera un tuple de tuples\n",
    "            for rec in records:             # => chaque enregistrement\n",
    "                for item in rec:            # => chaque champ dans l'enreg.\n",
    "                    print(item, end=' ')\n",
    "                print()\n",
    "    elif ch ==7:\n",
    "        req =input(\"Entrez la requête SQL : \")\n",
    "        if bd.executerReq(req):\n",
    "            print(bd.resultatReq())          # ce sera un tuple de tuples\n",
    "    else:\n",
    "        bd.commit()\n",
    "        bd.close()\n",
    "        break\n",
    "\n"
   ]
  },
  {
   "cell_type": "code",
   "execution_count": 65,
   "id": "800eb66f-0272-4cf8-95e8-c2518bbb0cc9",
   "metadata": {},
   "outputs": [
    {
     "name": "stdout",
     "output_type": "stream",
     "text": [
      "Collecting psycopg[binary]\n",
      "  Downloading psycopg-3.2.3-py3-none-any.whl (197 kB)\n",
      "     ---------------------------------------- 0.0/197.9 kB ? eta -:--:--\n",
      "     -------------------------------------- 197.9/197.9 kB 5.9 MB/s eta 0:00:00\n",
      "Requirement already satisfied: typing-extensions>=4.6 in c:\\users\\awounfouet\\appdata\\roaming\\python\\python310\\site-packages (from psycopg[binary]) (4.12.2)\n",
      "Requirement already satisfied: tzdata in c:\\users\\awounfouet\\appdata\\local\\programs\\python\\python310\\lib\\site-packages (from psycopg[binary]) (2024.2)\n",
      "Collecting psycopg-binary==3.2.3\n",
      "  Downloading psycopg_binary-3.2.3-cp310-cp310-win_amd64.whl (2.9 MB)\n",
      "     ---------------------------------------- 0.0/2.9 MB ? eta -:--:--\n",
      "     -------- ------------------------------- 0.6/2.9 MB 13.5 MB/s eta 0:00:01\n",
      "     --------------------- ------------------ 1.6/2.9 MB 20.3 MB/s eta 0:00:01\n",
      "     ------------------------------ --------- 2.2/2.9 MB 17.6 MB/s eta 0:00:01\n",
      "     ---------------------------------------- 2.9/2.9 MB 16.9 MB/s eta 0:00:00\n",
      "Installing collected packages: psycopg-binary, psycopg\n",
      "Successfully installed psycopg-3.2.3 psycopg-binary-3.2.3\n"
     ]
    },
    {
     "name": "stderr",
     "output_type": "stream",
     "text": [
      "\n",
      "[notice] A new release of pip is available: 23.0.1 -> 24.3.1\n",
      "[notice] To update, run: python.exe -m pip install --upgrade pip\n"
     ]
    }
   ],
   "source": [
    " # Version moderne de psycopg\n",
    "!pip install psycopg[binary] \n",
    "\n",
    "# OU\n",
    "#!pip install psycopg2         # Version classique"
   ]
  },
  {
   "cell_type": "code",
   "execution_count": 74,
   "id": "77ba0fb2-b69b-44ea-b1ff-1e14e98f31ad",
   "metadata": {},
   "outputs": [],
   "source": [
    "# -*- coding:Utf8 -*-\n",
    "\n",
    "import sys\n",
    "from psycopg import connect\n",
    "#from dict_app import *\n",
    "\n",
    "\n",
    "class Glob:\n",
    "    \"\"\"Espace de noms pour les variables et fonctions <pseudo-globales>\"\"\"\n",
    "\n",
    "    dbName = \"discotheque\"      # nom de la base de données\n",
    "    user = \"postgres\"              # propriétaire ou utilisateur\n",
    "    passwd = \"admin\"            # mot de passe d'accès\n",
    "    host = \"127.0.0.1\"          # nom ou adresse IP du serveur\n",
    "    port =5432\n",
    "\n",
    "    # Structure de la base de données.  Dictionnaire des tables & champs :\n",
    "    dicoT ={\"compositeurs\":[('id_comp', \"k\", \"clé primaire\"),\n",
    "                            ('nom', 25, \"nom\"),\n",
    "                            ('prenom', 25, \"prénom\"),\n",
    "                            ('a_naiss', \"i\", \"année de naissance\"),\n",
    "                            ('a_mort', \"i\", \"année de mort\")],\n",
    "            \"oeuvres\":[('id_oeuv', \"k\", \"clé primaire\"),\n",
    "                       ('id_comp', \"i\", \"clé compositeur\"),\n",
    "                       ('titre', 50, \"titre de l'oeuvre\"),\n",
    "                       ('duree', \"i\", \"durée (en minutes)\"),\n",
    "                       ('interpr', 30, \"interprète principal\")]}\n",
    "\n",
    "\n",
    "\n",
    "\n",
    "\n",
    "class GestionBD:\n",
    "    \"Mise en place et interfaçage d'une base de données PostgreSQL\"\n",
    "\n",
    "    def __init__(self, dbName, user, passwd, host, port=5432):\n",
    "        \"Établissement de la connexion - Création du curseur\"\n",
    "        try:\n",
    "            # Connexion à la base de données PostgreSQL\n",
    "            self.baseDonn = connect(\n",
    "                dbname=dbName,\n",
    "                user=user,\n",
    "                password=passwd,\n",
    "                host=host,\n",
    "                port=port\n",
    "            )\n",
    "        except Exception as err:\n",
    "            print('La connexion avec la base de données a échoué :\\n'\n",
    "                  f'Erreur détectée :\\n{err}')\n",
    "            self.echec = 1\n",
    "        else:\n",
    "            self.cursor = self.baseDonn.cursor()  # Création du curseur\n",
    "            self.echec = 0\n",
    "\n",
    "    def __del__(self):\n",
    "        \"Fermeture propre de la connexion à la base de données\"\n",
    "        try:\n",
    "            if hasattr(self, 'cursor'):\n",
    "                self.cursor.close()\n",
    "            if hasattr(self, 'baseDonn'):\n",
    "                self.baseDonn.close()\n",
    "        except Exception as err:\n",
    "            print(f'Erreur lors de la fermeture de la connexion : {err}')\n",
    "\n",
    "\n",
    "    def creerTables(self, dicTables):\n",
    "        \"Création des tables décrites dans le dictionnaire <dicTables>.\"\n",
    "        for table in dicTables:            # parcours des clés du dictionn.\n",
    "            req = \"CREATE TABLE %s (\" % table\n",
    "            pk =''\n",
    "            for descr in dicTables[table]:\n",
    "                nomChamp = descr[0]        # libellé du champ à créer\n",
    "                tch = descr[1]             # type de champ à créer\n",
    "                if tch =='i':\n",
    "                    typeChamp ='INTEGER'\n",
    "                elif tch =='k':\n",
    "                    # champ 'clé primaire' (entier incrémenté automatiquement)\n",
    "                    typeChamp ='SERIAL'\n",
    "                    pk = nomChamp\n",
    "                else:\n",
    "                    typeChamp ='VARCHAR(%s)' % tch\n",
    "                req = req + \"%s %s, \" % (nomChamp, typeChamp)\n",
    "            if pk == '':\n",
    "                req = req[:-2] + \")\"\n",
    "            else:\n",
    "                req = req + \"CONSTRAINT %s_pk PRIMARY KEY(%s))\" % (pk, pk)\n",
    "            self.executerReq(req)\n",
    "\n",
    "    def supprimerTables(self, dicTables):\n",
    "        \"Suppression de toutes les tables décrites dans <dicTables>\"\n",
    "        for table in list(dicTables.keys()):\n",
    "            req =\"DROP TABLE %s\" % table\n",
    "            self.executerReq(req)\n",
    "        self.commit()                       # transfert -> disque\n",
    "        \n",
    "        \n",
    "    def executerReq(self, req, param =None):\n",
    "        \"Exécution de la requête <req>, avec détection d'erreur éventuelle\"\n",
    "        try:\n",
    "            self.cursor.execute(req, param)\n",
    "        except Exception as err:\n",
    "            # afficher la requête et le message d'erreur système :\n",
    "            print(\"Requête SQL incorrecte :\\n{}\\nErreur détectée :\".format(req))\n",
    "            print(err)\n",
    "            return 0\n",
    "        else:\n",
    "            return 1\n",
    "\n",
    "    def resultatReq(self):\n",
    "        \"renvoie le résultat de la requête précédente (une liste de tuples)\"\n",
    "        return self.cursor.fetchall()\n",
    "\n",
    "    def commit(self):\n",
    "        if self.baseDonn:\n",
    "            self.baseDonn.commit()         # transfert curseur -> disque\n",
    "\n",
    "    def close(self):\n",
    "        if self.baseDonn:\n",
    "            self.baseDonn.close()"
   ]
  },
  {
   "cell_type": "code",
   "execution_count": 71,
   "id": "679abc29-3031-4a2b-9560-ccc199013a48",
   "metadata": {},
   "outputs": [],
   "source": [
    "\n",
    "###### Programme principal : #########\n",
    "\n",
    "# Création de l'objet-interface avec la base de données :\n",
    "bd = GestionBD(Glob.dbName, Glob.user, Glob.passwd, Glob.host, Glob.port)\n",
    "if bd.echec:\n",
    "    sys.exit()"
   ]
  },
  {
   "cell_type": "code",
   "execution_count": null,
   "id": "42355afe-34a6-4262-9ce8-3d0c73a1dc5f",
   "metadata": {},
   "outputs": [],
   "source": []
  },
  {
   "cell_type": "markdown",
   "id": "c01a93e4-6973-4f99-b35c-cd89a70b18c9",
   "metadata": {},
   "source": [
    "#### Construire un générateur de formulaires\n"
   ]
  },
  {
   "cell_type": "code",
   "execution_count": null,
   "id": "98a52e30-62a9-456e-97cb-73fcd2a52db7",
   "metadata": {},
   "outputs": [],
   "source": [
    "class Enregistreur:\n",
    "    \"\"\"classe pour gérer l'entrée d'enregistrements divers\"\"\"\n",
    "    def __init__(self, bd, table):\n",
    "        self.bd =bd\n",
    "        self.table =table\n",
    "        self.descriptif =Glob.dicoT[table]   # descriptif des champs\n",
    "\n",
    "    def entrer(self):\n",
    "        \"procédure d'entrée d'un enregistrement entier\"\n",
    "        champs =\"(\"           # ébauche de chaîne pour les noms de champs\n",
    "        valeurs =[]           # liste pour les valeurs correspondantes\n",
    "        # Demander successivement une valeur pour chaque champ :\n",
    "        for cha, type, nom in self.descriptif:\n",
    "            if type ==\"k\":    # on ne demandera pas le n° d'enregistrement\n",
    "                continue      # à l'utilisateur (numérotation auto.)\n",
    "            champs = champs + cha + \",\"\n",
    "            val = input(\"Entrez le champ %s :\" % nom)\n",
    "            if type ==\"i\":\n",
    "                val =int(val)\n",
    "            valeurs.append(val)\n",
    "\n",
    "        balises =\"(\" + \"%s,\" * len(valeurs)       # balises de conversion\n",
    "        champs = champs[:-1] + \")\"    # supprimer la dernière virgule,\n",
    "        balises = balises[:-1] + \")\"  # et ajouter une parenthèse\n",
    "        req =\"INSERT INTO %s %s VALUES %s\" % (self.table, champs, balises)\n",
    "        self.bd.executerReq(req, valeurs)\n",
    "\n",
    "        ch =input(\"Continuer (O/N) ? \")\n",
    "        if ch.upper() == \"O\":\n",
    "            return 0\n",
    "        else:\n",
    "            return 1"
   ]
  },
  {
   "cell_type": "code",
   "execution_count": null,
   "id": "2b0c3bbd-d643-4f47-b9b2-358243e91fb2",
   "metadata": {},
   "outputs": [],
   "source": []
  },
  {
   "cell_type": "markdown",
   "id": "54638aa1-3f15-42a6-bacb-174f274306ab",
   "metadata": {},
   "source": [
    "#### Full code"
   ]
  },
  {
   "cell_type": "code",
   "execution_count": 75,
   "id": "5150eb35-a73b-4cbe-8fe4-f8243464a3c7",
   "metadata": {},
   "outputs": [],
   "source": [
    "# -*- coding:Utf8 -*-\n",
    "\n",
    "import sys\n",
    "from psycopg import connect\n",
    "#from dict_app import *\n",
    "\n",
    "\n",
    "class Glob:\n",
    "    \"\"\"Espace de noms pour les variables et fonctions <pseudo-globales>\"\"\"\n",
    "\n",
    "    dbName = \"discotheque\"      # nom de la base de données\n",
    "    user = \"postgres\"              # propriétaire ou utilisateur\n",
    "    passwd = \"admin\"            # mot de passe d'accès\n",
    "    host = \"127.0.0.1\"          # nom ou adresse IP du serveur\n",
    "    port =5432\n",
    "\n",
    "    # Structure de la base de données.  Dictionnaire des tables & champs :\n",
    "    dicoT ={\"compositeurs\":[('id_comp', \"k\", \"clé primaire\"),\n",
    "                            ('nom', 25, \"nom\"),\n",
    "                            ('prenom', 25, \"prénom\"),\n",
    "                            ('a_naiss', \"i\", \"année de naissance\"),\n",
    "                            ('a_mort', \"i\", \"année de mort\")],\n",
    "            \"oeuvres\":[('id_oeuv', \"k\", \"clé primaire\"),\n",
    "                       ('id_comp', \"i\", \"clé compositeur\"),\n",
    "                       ('titre', 50, \"titre de l'oeuvre\"),\n",
    "                       ('duree', \"i\", \"durée (en minutes)\"),\n",
    "                       ('interpr', 30, \"interprète principal\")]}\n",
    "\n",
    "\n",
    "\n",
    "\n",
    "\n",
    "class GestionBD:\n",
    "    \"Mise en place et interfaçage d'une base de données PostgreSQL\"\n",
    "\n",
    "    def __init__(self, dbName, user, passwd, host, port=5432):\n",
    "        \"Établissement de la connexion - Création du curseur\"\n",
    "        try:\n",
    "            # Connexion à la base de données PostgreSQL\n",
    "            self.baseDonn = connect(\n",
    "                dbname=dbName,\n",
    "                user=user,\n",
    "                password=passwd,\n",
    "                host=host,\n",
    "                port=port\n",
    "            )\n",
    "        except Exception as err:\n",
    "            print('La connexion avec la base de données a échoué :\\n'\n",
    "                  f'Erreur détectée :\\n{err}')\n",
    "            self.echec = 1\n",
    "        else:\n",
    "            self.cursor = self.baseDonn.cursor()  # Création du curseur\n",
    "            self.echec = 0\n",
    "\n",
    "    def __del__(self):\n",
    "        \"Fermeture propre de la connexion à la base de données\"\n",
    "        try:\n",
    "            if hasattr(self, 'cursor'):\n",
    "                self.cursor.close()\n",
    "            if hasattr(self, 'baseDonn'):\n",
    "                self.baseDonn.close()\n",
    "        except Exception as err:\n",
    "            print(f'Erreur lors de la fermeture de la connexion : {err}')\n",
    "\n",
    "\n",
    "    def creerTables(self, dicTables):\n",
    "        \"Création des tables décrites dans le dictionnaire <dicTables>.\"\n",
    "        for table in dicTables:            # parcours des clés du dictionn.\n",
    "            req = \"CREATE TABLE %s (\" % table\n",
    "            pk =''\n",
    "            for descr in dicTables[table]:\n",
    "                nomChamp = descr[0]        # libellé du champ à créer\n",
    "                tch = descr[1]             # type de champ à créer\n",
    "                if tch =='i':\n",
    "                    typeChamp ='INTEGER'\n",
    "                elif tch =='k':\n",
    "                    # champ 'clé primaire' (entier incrémenté automatiquement)\n",
    "                    typeChamp ='SERIAL'\n",
    "                    pk = nomChamp\n",
    "                else:\n",
    "                    typeChamp ='VARCHAR(%s)' % tch\n",
    "                req = req + \"%s %s, \" % (nomChamp, typeChamp)\n",
    "            if pk == '':\n",
    "                req = req[:-2] + \")\"\n",
    "            else:\n",
    "                req = req + \"CONSTRAINT %s_pk PRIMARY KEY(%s))\" % (pk, pk)\n",
    "            self.executerReq(req)\n",
    "\n",
    "    def supprimerTables(self, dicTables):\n",
    "        \"Suppression de toutes les tables décrites dans <dicTables>\"\n",
    "        for table in list(dicTables.keys()):\n",
    "            req =\"DROP TABLE %s\" % table\n",
    "            self.executerReq(req)\n",
    "        self.commit()                       # transfert -> disque\n",
    "        \n",
    "        \n",
    "    def executerReq(self, req, param =None):\n",
    "        \"Exécution de la requête <req>, avec détection d'erreur éventuelle\"\n",
    "        try:\n",
    "            self.cursor.execute(req, param)\n",
    "        except Exception as err:\n",
    "            # afficher la requête et le message d'erreur système :\n",
    "            print(\"Requête SQL incorrecte :\\n{}\\nErreur détectée :\".format(req))\n",
    "            print(err)\n",
    "            return 0\n",
    "        else:\n",
    "            return 1\n",
    "\n",
    "    def resultatReq(self):\n",
    "        \"renvoie le résultat de la requête précédente (une liste de tuples)\"\n",
    "        return self.cursor.fetchall()\n",
    "\n",
    "    def commit(self):\n",
    "        if self.baseDonn:\n",
    "            self.baseDonn.commit()         # transfert curseur -> disque\n",
    "\n",
    "    def close(self):\n",
    "        if self.baseDonn:\n",
    "            self.baseDonn.close()\n",
    "\n",
    "\n",
    "\n",
    "\n",
    "\n",
    "class Enregistreur:\n",
    "    \"\"\"classe pour gérer l'entrée d'enregistrements divers\"\"\"\n",
    "    def __init__(self, bd, table):\n",
    "        self.bd =bd\n",
    "        self.table =table\n",
    "        self.descriptif =Glob.dicoT[table]   # descriptif des champs\n",
    "\n",
    "    def entrer(self):\n",
    "        \"procédure d'entrée d'un enregistrement entier\"\n",
    "        champs =\"(\"           # ébauche de chaîne pour les noms de champs\n",
    "        valeurs =[]           # liste pour les valeurs correspondantes\n",
    "        # Demander successivement une valeur pour chaque champ :\n",
    "        for cha, type, nom in self.descriptif:\n",
    "            if type ==\"k\":    # on ne demandera pas le n° d'enregistrement\n",
    "                continue      # à l'utilisateur (numérotation auto.)\n",
    "            champs = champs + cha + \",\"\n",
    "            val = input(\"Entrez le champ %s :\" % nom)\n",
    "            if type ==\"i\":\n",
    "                val =int(val)\n",
    "            valeurs.append(val)\n",
    "\n",
    "        balises =\"(\" + \"%s,\" * len(valeurs)       # balises de conversion\n",
    "        champs = champs[:-1] + \")\"    # supprimer la dernière virgule,\n",
    "        balises = balises[:-1] + \")\"  # et ajouter une parenthèse\n",
    "        req =\"INSERT INTO %s %s VALUES %s\" % (self.table, champs, balises)\n",
    "        self.bd.executerReq(req, valeurs)\n",
    "\n",
    "        ch =input(\"Continuer (O/N) ? \")\n",
    "        if ch.upper() == \"O\":\n",
    "            return 0\n",
    "        else:\n",
    "            return 1"
   ]
  },
  {
   "cell_type": "code",
   "execution_count": 73,
   "id": "141a35c3-e834-4f18-a40b-0a580f7fece4",
   "metadata": {},
   "outputs": [
    {
     "name": "stdout",
     "output_type": "stream",
     "text": [
      "\n",
      "Que voulez-vous faire :\n",
      "1) Créer les tables de la base de données\n",
      "2) Supprimer les tables de la base de données ?\n",
      "3) Entrer des compositeurs\n",
      "4) Entrer des oeuvres\n",
      "5) Lister les compositeurs\n",
      "6) Lister les oeuvres\n",
      "7) Exécuter une requête SQL quelconque\n",
      "9) terminer ?                         Votre choix : "
     ]
    },
    {
     "name": "stdin",
     "output_type": "stream",
     "text": [
      " 5\n"
     ]
    },
    {
     "name": "stdout",
     "output_type": "stream",
     "text": [
      "\n",
      "Que voulez-vous faire :\n",
      "1) Créer les tables de la base de données\n",
      "2) Supprimer les tables de la base de données ?\n",
      "3) Entrer des compositeurs\n",
      "4) Entrer des oeuvres\n",
      "5) Lister les compositeurs\n",
      "6) Lister les oeuvres\n",
      "7) Exécuter une requête SQL quelconque\n",
      "9) terminer ?                         Votre choix : "
     ]
    },
    {
     "name": "stdin",
     "output_type": "stream",
     "text": [
      " 9\n"
     ]
    }
   ],
   "source": [
    "###### Programme principal : #########\n",
    "\n",
    "# Création de l'objet-interface avec la base de données :\n",
    "bd = GestionBD(Glob.dbName, Glob.user, Glob.passwd, Glob.host, Glob.port)\n",
    "if bd.echec:\n",
    "    sys.exit()\n",
    "\n",
    "while 1:\n",
    "    print(\"\\nQue voulez-vous faire :\\n\"\\\n",
    "          \"1) Créer les tables de la base de données\\n\"\\\n",
    "          \"2) Supprimer les tables de la base de données ?\\n\"\\\n",
    "          \"3) Entrer des compositeurs\\n\"\\\n",
    "          \"4) Entrer des oeuvres\\n\"\\\n",
    "          \"5) Lister les compositeurs\\n\"\\\n",
    "          \"6) Lister les oeuvres\\n\"\\\n",
    "          \"7) Exécuter une requête SQL quelconque\\n\"\\\n",
    "          \"9) terminer ?                         Votre choix :\", end=' ')\n",
    "    ch = int(input())\n",
    "    if ch ==1:\n",
    "        # création de toutes les tables décrites dans le dictionnaire :\n",
    "        bd.creerTables(Glob.dicoT)\n",
    "    elif ch ==2:\n",
    "        # suppression de toutes les tables décrites dans le dic. :\n",
    "        bd.supprimerTables(Glob.dicoT)\n",
    "    elif ch ==3 or ch ==4:\n",
    "        # création d'un <enregistreur> de compositeurs ou d'oeuvres :\n",
    "        table ={3:'compositeurs', 4:'oeuvres'}[ch]\n",
    "        enreg =Enregistreur(bd, table)\n",
    "        while 1:\n",
    "            if enreg.entrer():\n",
    "                break\n",
    "    elif ch ==5 or ch ==6:\n",
    "        # listage de tous les compositeurs, ou toutes les oeuvres :\n",
    "        table ={5:'compositeurs', 6:'oeuvres'}[ch]\n",
    "        if bd.executerReq(\"SELECT * FROM %s\" % table):\n",
    "            # analyser le résultat de la requête ci-dessus :\n",
    "            records = bd.resultatReq()      # ce sera un tuple de tuples\n",
    "            for rec in records:             # => chaque enregistrement\n",
    "                for item in rec:            # => chaque champ dans l'enreg.\n",
    "                    print(item, end=' ')\n",
    "                print()\n",
    "    elif ch ==7:\n",
    "        req =input(\"Entrez la requête SQL : \")\n",
    "        if bd.executerReq(req):\n",
    "            print(bd.resultatReq())          # ce sera un tuple de tuples\n",
    "    else:\n",
    "        bd.commit()\n",
    "        bd.close()\n",
    "        break"
   ]
  },
  {
   "cell_type": "code",
   "execution_count": null,
   "id": "8ac35958-ac64-4269-848f-7c95a160bbc4",
   "metadata": {},
   "outputs": [],
   "source": []
  },
  {
   "cell_type": "code",
   "execution_count": null,
   "id": "2c46989e-ac30-4f83-a6de-8deeec0ca80e",
   "metadata": {},
   "outputs": [],
   "source": []
  }
 ],
 "metadata": {
  "kernelspec": {
   "display_name": "Python 3 (ipykernel)",
   "language": "python",
   "name": "python3"
  },
  "language_info": {
   "codemirror_mode": {
    "name": "ipython",
    "version": 3
   },
   "file_extension": ".py",
   "mimetype": "text/x-python",
   "name": "python",
   "nbconvert_exporter": "python",
   "pygments_lexer": "ipython3",
   "version": "3.10.11"
  }
 },
 "nbformat": 4,
 "nbformat_minor": 5
}
